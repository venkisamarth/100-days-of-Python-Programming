{
  "nbformat": 4,
  "nbformat_minor": 0,
  "metadata": {
    "colab": {
      "provenance": [],
      "authorship_tag": "ABX9TyP5DmwznOHjDCRIqF5MhM+O",
      "include_colab_link": true
    },
    "kernelspec": {
      "name": "python3",
      "display_name": "Python 3"
    },
    "language_info": {
      "name": "python"
    }
  },
  "cells": [
    {
      "cell_type": "markdown",
      "metadata": {
        "id": "view-in-github",
        "colab_type": "text"
      },
      "source": [
        "<a href=\"https://colab.research.google.com/github/venkisamarth/100-days-of-Python-Programming/blob/main/Day3_Modules_and_pip_in_Python!.ipynb\" target=\"_parent\"><img src=\"https://colab.research.google.com/assets/colab-badge.svg\" alt=\"Open In Colab\"/></a>"
      ]
    },
    {
      "cell_type": "markdown",
      "source": [
        "Modules and pip in Python!"
      ],
      "metadata": {
        "id": "0NRdcCun4tWt"
      }
    },
    {
      "cell_type": "markdown",
      "source": [
        "Module is like a code library which can be used to borrow code written by somebody else in our python program. There are two types of modules in python:\n",
        "\n",
        "1. Built in Modules - These modules are ready to import and use and ships with the python interpreter. there is no need to install such modules explicitly.\n",
        "2. External Modules - These modules are imported from a third party file or can be installed using a package manager like pip or conda. Since this code is written by someone else, we can install different versions of a same module with time."
      ],
      "metadata": {
        "id": "fM9iZvRW4zVA"
      }
    },
    {
      "cell_type": "markdown",
      "source": [
        "The Pip command\n",
        "\n",
        "It can be used as a package manager pip to install a python module. Lets install a module called pandas using the following command"
      ],
      "metadata": {
        "id": "4Pfi1-Gx5NSj"
      }
    },
    {
      "cell_type": "markdown",
      "source": [
        "To approch modules we use the pip commad"
      ],
      "metadata": {
        "id": "lSg-0Ola5XFA"
      }
    },
    {
      "cell_type": "code",
      "execution_count": null,
      "metadata": {
        "id": "eM_jhmui4a0K"
      },
      "outputs": [],
      "source": [
        "# pip install pandas"
      ]
    },
    {
      "cell_type": "markdown",
      "source": [
        "Using a module in Python (Usage)"
      ],
      "metadata": {
        "id": "4b_XmBJw5vKt"
      }
    },
    {
      "cell_type": "code",
      "source": [
        "# import pandas as pd\n",
        "# pd.read_csv(\"word file\")\n",
        "# print(df)"
      ],
      "metadata": {
        "id": "KIqMNPTi5zlr"
      },
      "execution_count": null,
      "outputs": []
    }
  ]
}