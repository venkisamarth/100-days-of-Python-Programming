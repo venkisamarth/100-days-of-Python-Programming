{
  "nbformat": 4,
  "nbformat_minor": 0,
  "metadata": {
    "colab": {
      "provenance": []
    },
    "kernelspec": {
      "name": "python3",
      "display_name": "Python 3"
    },
    "language_info": {
      "name": "python"
    }
  },
  "cells": [
    {
      "cell_type": "markdown",
      "source": [
        "\n",
        "Decorators in Python are a powerful and flexible way to modify or extend the behavior of functions or methods. Decorators are functions that take another function or method as input, add some functionality to it, and return the modified function. Here are 10 examples of decorators in Python with code and output:"
      ],
      "metadata": {
        "id": "i5maXxtvlX5h"
      }
    },
    {
      "cell_type": "code",
      "execution_count": 3,
      "metadata": {
        "colab": {
          "base_uri": "https://localhost:8080/"
        },
        "id": "hdBO6EIelJFf",
        "outputId": "1f9c868c-6494-49d9-88fe-3a1f64156bde"
      },
      "outputs": [
        {
          "output_type": "stream",
          "name": "stdout",
          "text": [
            "Somthing is happerning before the function is called.\n",
            "Hello!\n",
            "Somthing is happerning after the Function is called.\n"
          ]
        }
      ],
      "source": [
        "def my_Decorators(func):\n",
        "  def wrapper():\n",
        "    print('Somthing is happerning before the function is called.')\n",
        "    func()\n",
        "    print(\"Somthing is happerning after the Function is called.\")\n",
        "  return wrapper\n",
        "@my_Decorators\n",
        "def say_hello():\n",
        "  print(\"Hello!\")\n",
        "say_hello()"
      ]
    },
    {
      "cell_type": "code",
      "source": [
        "# Decoraters with Parameters\n",
        "def repeat(n):\n",
        "    def decorator(func):\n",
        "        def wrapper(*args, **kwargs):\n",
        "            for _ in range(n):\n",
        "                func(*args, **kwargs)\n",
        "        return wrapper\n",
        "    return decorator\n",
        "\n",
        "@repeat(3)\n",
        "def say_hi(name):\n",
        "    print(f\"Hi, {name}!\")\n",
        "\n",
        "# Output:\n",
        "# Hi, Alice!\n",
        "# Hi, Alice!\n",
        "# Hi, Alice!\n",
        "say_hi(\"Alice\")\n",
        "\n"
      ],
      "metadata": {
        "colab": {
          "base_uri": "https://localhost:8080/"
        },
        "id": "n0qdMrHHmdOm",
        "outputId": "65a876cb-2a27-49dc-bec5-c97a5057be37"
      },
      "execution_count": 6,
      "outputs": [
        {
          "output_type": "stream",
          "name": "stdout",
          "text": [
            "Hi, Alice!\n",
            "Hi, Alice!\n",
            "Hi, Alice!\n"
          ]
        }
      ]
    },
    {
      "cell_type": "markdown",
      "source": [
        "Timing Decorator"
      ],
      "metadata": {
        "id": "Rlnwjg19nx_N"
      }
    },
    {
      "cell_type": "code",
      "source": [
        "import time\n",
        "def timing_decorater(func):\n",
        "  def wrapper(*args,**kwargs):\n",
        "    start_time=time.time()\n",
        "    result=func(*args,**kwargs)\n",
        "    end_time=time.time()\n",
        "    print(f\"Execution time{end_time-start_time} seconds\")\n",
        "    return result\n",
        "  return wrapper\n",
        "@timing_decorater\n",
        "def slow_function():\n",
        "  time.sleep(2)\n",
        "  print(\"Function execccuted.\")\n",
        "slow_function()\n"
      ],
      "metadata": {
        "colab": {
          "base_uri": "https://localhost:8080/"
        },
        "id": "wB4ARjIanint",
        "outputId": "ac0d0316-0167-415c-d608-903bb61e25db"
      },
      "execution_count": 7,
      "outputs": [
        {
          "output_type": "stream",
          "name": "stdout",
          "text": [
            "Function execccuted.\n",
            "Execution time2.0031652450561523 seconds\n"
          ]
        }
      ]
    },
    {
      "cell_type": "code",
      "source": [
        "# decorators for exception handling\n",
        "def handle_exception(func):\n",
        "  def wrapper(*args,**kwargs):\n",
        "    try:\n",
        "      result =func(*args,**kwargs)\n",
        "    except Exception as e:\n",
        "      result=f\"An Error occurred due to: {str(e)}\"\n",
        "    return result\n",
        "  return wrapper\n",
        "\n",
        "@handle_exception\n",
        "def divide(a,b):\n",
        "  return a/b\n",
        "\n",
        "result=divide(5,0)\n",
        "print(result)"
      ],
      "metadata": {
        "colab": {
          "base_uri": "https://localhost:8080/"
        },
        "id": "s-5izWOEpFr3",
        "outputId": "ab04eef8-f80d-4843-eac5-b5a34e73bb60"
      },
      "execution_count": 10,
      "outputs": [
        {
          "output_type": "stream",
          "name": "stdout",
          "text": [
            "An Error occurred due to: division by zero\n"
          ]
        }
      ]
    },
    {
      "cell_type": "markdown",
      "source": [
        "Memoization with a Decorator\n"
      ],
      "metadata": {
        "id": "a_ucqC9LrHmo"
      }
    },
    {
      "cell_type": "code",
      "source": [
        "def memoize(func):\n",
        "    cache = {}\n",
        "\n",
        "    def wrapper(*args):\n",
        "        if args not in cache:\n",
        "            cache[args] = func(*args)\n",
        "        return cache[args]\n",
        "\n",
        "    return wrapper\n",
        "\n",
        "@memoize\n",
        "def fibonacci(n):\n",
        "    if n <= 1:\n",
        "        return n\n",
        "    return fibonacci(n - 1) + fibonacci(n - 2)\n",
        "\n",
        "# Output:\n",
        "# Calculating fibonacci(5)\n",
        "# Calculating fibonacci(4)\n",
        "# Calculating fibonacci(3)\n",
        "# Calculating fibonacci(2)\n",
        "# Calculating fibonacci(1)\n",
        "# Calculating fibonacci(0)\n",
        "# Calculating fibonacci(2)\n",
        "# Calculating fibonacci(1)\n",
        "# Calculating fibonacci(3)\n",
        "# Calculating fibonacci(2)\n",
        "# Calculating fibonacci(4)\n",
        "# Calculating fibonacci(3)\n",
        "# Calculating fibonacci(2)\n",
        "# Calculating fibonacci(1)\n",
        "# Calculating fibonacci(5)\n",
        "result = fibonacci(5)\n",
        "print(result)\n",
        "\n"
      ],
      "metadata": {
        "colab": {
          "base_uri": "https://localhost:8080/"
        },
        "id": "Y0Zkr3EkqIUt",
        "outputId": "25fd7afd-3432-40a1-955c-5af68ccd0823"
      },
      "execution_count": 12,
      "outputs": [
        {
          "output_type": "stream",
          "name": "stdout",
          "text": [
            "5\n"
          ]
        }
      ]
    },
    {
      "cell_type": "code",
      "source": [
        "def log_function_call(func):\n",
        "    def wrapper(*args, **kwargs):\n",
        "        print(f\"Calling function {func.__name__} with arguments {args} and keyword arguments {kwargs}\")\n",
        "        result = func(*args, **kwargs)\n",
        "        print(f\"Function {func.__name__} returned {result}\")\n",
        "        return result\n",
        "    return wrapper\n",
        "\n",
        "@log_function_call\n",
        "def add(a, b):\n",
        "    return a + b\n",
        "\n",
        "# Output:\n",
        "# Calling function add with arguments (3, 5) and keyword arguments {}\n",
        "# Function add returned 8\n",
        "result = add(3, 5)\n"
      ],
      "metadata": {
        "colab": {
          "base_uri": "https://localhost:8080/"
        },
        "id": "znCVDOgusE4E",
        "outputId": "759f10cb-e7b0-4f9a-80f0-cae12fab3373"
      },
      "execution_count": 14,
      "outputs": [
        {
          "output_type": "stream",
          "name": "stdout",
          "text": [
            "Calling function add with arguments (3, 5) and keyword arguments {}\n",
            "Function add returned 8\n"
          ]
        }
      ]
    },
    {
      "cell_type": "markdown",
      "source": [
        "Loggin Decorator"
      ],
      "metadata": {
        "id": "lURWg2epu4JD"
      }
    },
    {
      "cell_type": "code",
      "source": [
        "def log_function_call(func):\n",
        "  def wrapper(*args,**kwargs):\n",
        "    print(f\"calling funcion {func.__name__} with arguments {args} and keyword arguments{kwargs} \")\n",
        "    result=func(*args,**kwargs)\n",
        "    print(f\"Function{func.__name__} returnd {result}\")\n",
        "    return result\n",
        "  return wrapper\n",
        "@log_function_call\n",
        "def add(a,b):\n",
        "  return a+b\n",
        "\n",
        "result=add(3,5)"
      ],
      "metadata": {
        "colab": {
          "base_uri": "https://localhost:8080/"
        },
        "id": "FcyvYzBVtJeF",
        "outputId": "b12e4259-a416-4dc5-e67c-97c66be9613a"
      },
      "execution_count": 17,
      "outputs": [
        {
          "output_type": "stream",
          "name": "stdout",
          "text": [
            "calling funcion add with arguments (3, 5) and keyword arguments{} \n",
            "Functionadd returnd 8\n"
          ]
        }
      ]
    },
    {
      "cell_type": "code",
      "source": [
        "# Authorization Decorator\n",
        "def Authorization_required(role):\n",
        "  def decorator(func):\n",
        "    def wrapper(*args,**kwargs):\n",
        "      if role ==\"admin\":\n",
        "         result = func(*args, **kwargs)\n",
        "      else:\n",
        "        result=\"Authorization error: Insufficient privileges.\"\n",
        "      return result\n",
        "    return wrapper\n",
        "  return decorator\n",
        "@Authorization_required(role=\"admin\")\n",
        "def View_sensitive_data():\n",
        "  return \"This is sensitive  data.\"\n",
        "result =View_sensitive_data()\n",
        "print(result)"
      ],
      "metadata": {
        "colab": {
          "base_uri": "https://localhost:8080/"
        },
        "id": "HL0n9Z16vEq1",
        "outputId": "2338a652-57b3-4f3d-d603-172c641a027c"
      },
      "execution_count": 20,
      "outputs": [
        {
          "output_type": "stream",
          "name": "stdout",
          "text": [
            "This is sensitive  data.\n"
          ]
        }
      ]
    },
    {
      "cell_type": "code",
      "source": [
        "def ensure_non_negative_result(func):\n",
        "    def wrapper(*args, **kwargs):\n",
        "        result = func(*args, **kwargs)\n",
        "        return max(0, result)\n",
        "    return wrapper\n",
        "\n",
        "@ensure_non_negative_result\n",
        "def subtract(a, b):\n",
        "    return a - b\n",
        "\n",
        "# Output:\n",
        "# 0\n",
        "result = subtract(3, 5)\n",
        "print(result)"
      ],
      "metadata": {
        "colab": {
          "base_uri": "https://localhost:8080/"
        },
        "id": "RGnCIWR-zPl0",
        "outputId": "589eaf1d-a7e1-4e4f-eed0-dc690988b04c"
      },
      "execution_count": 25,
      "outputs": [
        {
          "output_type": "stream",
          "name": "stdout",
          "text": [
            "0\n"
          ]
        }
      ]
    },
    {
      "cell_type": "code",
      "source": [
        "#Decorator to convert the Result to Uppercase\n",
        "def to_uppercase(func):\n",
        "  def wrapper(*args,**kwargs):\n",
        "    result=func(*args,**kwargs)\n",
        "    return result.upper()\n",
        "  return wrapper\n",
        "@to_uppercase\n",
        "def greet(name):\n",
        "  return f\"Hello,{name}\"\n",
        "\n",
        "result=greet(\"Alice\")\n",
        "print(result)"
      ],
      "metadata": {
        "colab": {
          "base_uri": "https://localhost:8080/"
        },
        "id": "RQClMyQt0N8b",
        "outputId": "20bdbb27-6bfe-4e99-aeca-3f82790efa68"
      },
      "execution_count": 28,
      "outputs": [
        {
          "output_type": "stream",
          "name": "stdout",
          "text": [
            "HELLO,ALICE\n"
          ]
        }
      ]
    },
    {
      "cell_type": "code",
      "source": [
        "def singleton(cls):\n",
        "    instances = {}\n",
        "\n",
        "    def wrapper(*args, **kwargs):\n",
        "        if cls not in instances:\n",
        "            instances[cls] = cls(*args, **kwargs)\n",
        "        return instances[cls]\n",
        "\n",
        "    return wrapper\n",
        "\n",
        "@singleton\n",
        "class DatabaseConnection:\n",
        "    def __init__(self, host, port):\n",
        "        self.host = host\n",
        "        self.port = port\n",
        "\n",
        "# Creating instances\n",
        "db1 = DatabaseConnection(host=\"localhost\", port=5432)\n",
        "db2 = DatabaseConnection(host=\"example.com\", port=3306)\n",
        "\n",
        "# Output:\n",
        "# db1 and db2 are the same instance\n",
        "print(db1 is db2)"
      ],
      "metadata": {
        "colab": {
          "base_uri": "https://localhost:8080/"
        },
        "id": "MQJXylz-1Ki7",
        "outputId": "fc09ca21-6651-48da-bded-27d01bbf9bf9"
      },
      "execution_count": 33,
      "outputs": [
        {
          "output_type": "stream",
          "name": "stdout",
          "text": [
            "True\n"
          ]
        }
      ]
    },
    {
      "cell_type": "code",
      "source": [],
      "metadata": {
        "id": "onrrqqT_7zPW"
      },
      "execution_count": null,
      "outputs": []
    }
  ]
}