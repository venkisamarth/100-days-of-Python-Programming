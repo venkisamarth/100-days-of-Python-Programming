{
 "cells": [
  {
   "cell_type": "code",
   "execution_count": 12,
   "id": "e056f8b7",
   "metadata": {},
   "outputs": [
    {
     "name": "stdout",
     "output_type": "stream",
     "text": [
      "Enter the number of rows: 6\n",
      "     *\n",
      "    ***\n",
      "   *****\n",
      "  *******\n",
      " *********\n",
      "***********\n",
      " *********\n",
      "  *******\n",
      "   *****\n",
      "    ***\n",
      "     *\n"
     ]
    }
   ],
   "source": [
    "#Q1. Create a Diamond pattern using for loop\n",
    "\n",
    "n = int(input(\"Enter the number of rows: \"))\n",
    "\n",
    "# Upper half of the diamond\n",
    "for i in range(1, n + 1):\n",
    "    spaces = \" \" * (n - i)\n",
    "    stars = \"*\" * (2 * i - 1)\n",
    "    print(spaces + stars)\n",
    "\n",
    "# Lower half of the diamond\n",
    "for i in range(n - 1, 0, -1):\n",
    "    spaces = \" \" * (n - i)\n",
    "    stars = \"*\" * (2 * i - 1)\n",
    "    print(spaces + stars)"
   ]
  },
  {
   "cell_type": "code",
   "execution_count": 13,
   "id": "c2cb0326",
   "metadata": {},
   "outputs": [
    {
     "name": "stdout",
     "output_type": "stream",
     "text": [
      "15.0\n"
     ]
    }
   ],
   "source": [
    "#Q3. Write a lambda function to calculate the average of a list of numbers.\n",
    "\n",
    "calculate_average = lambda nums: sum(nums) / len(nums)\n",
    "# Test the lambda function\n",
    "input_nums = [5, 10, 15, 20, 25]\n",
    "output_average = calculate_average(input_nums)\n",
    "print(output_average)"
   ]
  },
  {
   "cell_type": "code",
   "execution_count": 14,
   "id": "7a208395",
   "metadata": {},
   "outputs": [
    {
     "name": "stdout",
     "output_type": "stream",
     "text": [
      "This is a private method.\n"
     ]
    }
   ],
   "source": [
    "#Q4 .implement name mangling technique  to access  a private method\n",
    "\n",
    "class MyClass:\n",
    "    def __private_method(self):\n",
    "        print(\"This is a private method.\")\n",
    "\n",
    "obj = MyClass()\n",
    "obj._MyClass__private_method()  # Accessing the private method using name mangling"
   ]
  },
  {
   "cell_type": "raw",
   "id": "a22839e5",
   "metadata": {},
   "source": [
    "Q5 Create a class called BankAccount with attributes account_number and balance. Implement a method called withdraw(amount) that updates the account balance and print a warning if the withdrawal amount is greater than the balance. Write code to create an instance of the BankAccount class, set the initial balance, attempt to withdraw an amount greater than the balance. "
   ]
  },
  {
   "cell_type": "code",
   "execution_count": 15,
   "id": "d162c37c",
   "metadata": {},
   "outputs": [
    {
     "name": "stdout",
     "output_type": "stream",
     "text": [
      "Warning: Withdrawal amount exceeds the available balance.\n"
     ]
    }
   ],
   "source": [
    "class BankAccount:\n",
    "    def __init__(self, account_number, balance):\n",
    "        self.account_number = account_number\n",
    "        self.balance = balance\n",
    "\n",
    "    def withdraw(self, amount):\n",
    "        if amount > self.balance:\n",
    "            print(\"Warning: Withdrawal amount exceeds the available balance.\")\n",
    "        else:\n",
    "            self.balance -= amount\n",
    "            print(f\"Withdrawal of {amount} successful. New balance: {self.balance}\")\n",
    "\n",
    "# Creating an instance of the BankAccount class\n",
    "account = BankAccount(\"123456789\", 1000)\n",
    "\n",
    "# Attempting to withdraw an amount greater than the balance\n",
    "withdraw_amount = 1500\n",
    "account.withdraw(withdraw_amount)"
   ]
  },
  {
   "cell_type": "markdown",
   "id": "541b93dc",
   "metadata": {},
   "source": [
    "### NUMPY"
   ]
  },
  {
   "cell_type": "raw",
   "id": "74443e6e",
   "metadata": {},
   "source": [
    "Q6. Create a NumPy array called \"mat\" with a shape of (4, 4) and all elements initialized to 1. Set the diagonal elements to 0. Print the modified array. "
   ]
  },
  {
   "cell_type": "code",
   "execution_count": 17,
   "id": "de6d46b9",
   "metadata": {},
   "outputs": [
    {
     "name": "stdout",
     "output_type": "stream",
     "text": [
      "[[0. 1. 1. 1.]\n",
      " [1. 0. 1. 1.]\n",
      " [1. 1. 0. 1.]\n",
      " [1. 1. 1. 0.]]\n"
     ]
    }
   ],
   "source": [
    "import numpy as np\n",
    "\n",
    "mat = np.ones((4, 4))  # Create a 4x4 array with all elements initialized to 1\n",
    "np.fill_diagonal(mat, 0)  # Set diagonal elements to 0\n",
    "print(mat)"
   ]
  },
  {
   "cell_type": "raw",
   "id": "d16c91bf",
   "metadata": {},
   "source": [
    "#Q7. Create a NumPy array called \"mat\" with shape (3, 3) and fill it with random integers between -10 and 10. Replace all negative values in the array with 0. Print the modified array. "
   ]
  },
  {
   "cell_type": "code",
   "execution_count": 16,
   "id": "d0af5b21",
   "metadata": {},
   "outputs": [
    {
     "name": "stdout",
     "output_type": "stream",
     "text": [
      "[[ 3  0  1]\n",
      " [ 4  0  8]\n",
      " [10  0  0]]\n"
     ]
    }
   ],
   "source": [
    "import numpy as np\n",
    "\n",
    "mat = np.random.randint(-10, 11, size=(3, 3))  # Create a 3x3 array with random integers between -10 and 10\n",
    "mat[mat < 0] = 0  # Replace negative values with 0\n",
    "print(mat)"
   ]
  },
  {
   "cell_type": "markdown",
   "id": "0aa0bd1d",
   "metadata": {},
   "source": [
    "### PANDAS"
   ]
  },
  {
   "cell_type": "code",
   "execution_count": 1,
   "id": "3ed049ad",
   "metadata": {},
   "outputs": [],
   "source": [
    "import pandas as pd\n",
    "df = pd.read_csv(r\"C:\\Users\\Dell\\Downloads\\sales.csv\")"
   ]
  },
  {
   "cell_type": "code",
   "execution_count": 2,
   "id": "9f759995",
   "metadata": {},
   "outputs": [
    {
     "data": {
      "text/html": [
       "<div>\n",
       "<style scoped>\n",
       "    .dataframe tbody tr th:only-of-type {\n",
       "        vertical-align: middle;\n",
       "    }\n",
       "\n",
       "    .dataframe tbody tr th {\n",
       "        vertical-align: top;\n",
       "    }\n",
       "\n",
       "    .dataframe thead th {\n",
       "        text-align: right;\n",
       "    }\n",
       "</style>\n",
       "<table border=\"1\" class=\"dataframe\">\n",
       "  <thead>\n",
       "    <tr style=\"text-align: right;\">\n",
       "      <th></th>\n",
       "      <th>Date</th>\n",
       "      <th>Product</th>\n",
       "      <th>Quantity</th>\n",
       "      <th>Price</th>\n",
       "      <th>Customer</th>\n",
       "    </tr>\n",
       "  </thead>\n",
       "  <tbody>\n",
       "    <tr>\n",
       "      <th>0</th>\n",
       "      <td>2023-01-01</td>\n",
       "      <td>Product A</td>\n",
       "      <td>10</td>\n",
       "      <td>5.99</td>\n",
       "      <td>Customer 1</td>\n",
       "    </tr>\n",
       "    <tr>\n",
       "      <th>1</th>\n",
       "      <td>2023-01-01</td>\n",
       "      <td>Product B</td>\n",
       "      <td>5</td>\n",
       "      <td>9.99</td>\n",
       "      <td>Customer 2</td>\n",
       "    </tr>\n",
       "    <tr>\n",
       "      <th>2</th>\n",
       "      <td>2023-01-02</td>\n",
       "      <td>Product A</td>\n",
       "      <td>7</td>\n",
       "      <td>5.99</td>\n",
       "      <td>Customer 3</td>\n",
       "    </tr>\n",
       "    <tr>\n",
       "      <th>3</th>\n",
       "      <td>2023-01-02</td>\n",
       "      <td>Product C</td>\n",
       "      <td>3</td>\n",
       "      <td>12.99</td>\n",
       "      <td>Customer 1</td>\n",
       "    </tr>\n",
       "    <tr>\n",
       "      <th>4</th>\n",
       "      <td>2023-01-03</td>\n",
       "      <td>Product B</td>\n",
       "      <td>8</td>\n",
       "      <td>9.99</td>\n",
       "      <td>Customer 4</td>\n",
       "    </tr>\n",
       "  </tbody>\n",
       "</table>\n",
       "</div>"
      ],
      "text/plain": [
       "         Date    Product  Quantity  Price    Customer\n",
       "0  2023-01-01  Product A        10   5.99  Customer 1\n",
       "1  2023-01-01  Product B         5   9.99  Customer 2\n",
       "2  2023-01-02  Product A         7   5.99  Customer 3\n",
       "3  2023-01-02  Product C         3  12.99  Customer 1\n",
       "4  2023-01-03  Product B         8   9.99  Customer 4"
      ]
     },
     "execution_count": 2,
     "metadata": {},
     "output_type": "execute_result"
    }
   ],
   "source": [
    "df.head()"
   ]
  },
  {
   "cell_type": "code",
   "execution_count": 4,
   "id": "ed8e0d8a",
   "metadata": {},
   "outputs": [
    {
     "data": {
      "text/plain": [
       "Index(['Date', 'Product', 'Quantity', 'Price', 'Customer'], dtype='object')"
      ]
     },
     "execution_count": 4,
     "metadata": {},
     "output_type": "execute_result"
    }
   ],
   "source": [
    "df.columns"
   ]
  },
  {
   "cell_type": "code",
   "execution_count": null,
   "id": "eb0ae3f0",
   "metadata": {},
   "outputs": [],
   "source": [
    "# 1. Identify the product that generated the highest revenue and the product that generated the lowest revenue\n",
    "highest_revenue_product = product_revenue['Revenue'].idxmax()\n",
    "lowest_revenue_product = product_revenue['Revenue'].idxmin()\n",
    "\n",
    "# 2. Calculate the total sales revenue for each customer\n",
    "customer_revenue = df.groupby('Customer')['Quantity', 'Price'].sum()\n",
    "customer_revenue['Revenue'] = customer_revenue['Quantity'] * customer_revenue['Price']\n",
    "\n",
    "# 3. Calculate the average quantity sold per day\n",
    "average_quantity_per_day = df.groupby('Date')['Quantity'].mean()\n",
    "\n",
    "# 4. Identify the date with the highest sales revenue\n",
    "date_highest_revenue = df.groupby('Date')['Revenue'].sum().idxmax()\n",
    "\n",
    "# 5. Calculate the total sales revenue for each year\n",
    "df['Year'] = pd.to_datetime(df['Date']).dt.year\n",
    "yearly_revenue = df.groupby('Year')['Revenue'].sum()"
   ]
  },
  {
   "cell_type": "code",
   "execution_count": null,
   "id": "e300d930",
   "metadata": {},
   "outputs": [],
   "source": []
  },
  {
   "cell_type": "markdown",
   "id": "c5f1b4e6",
   "metadata": {},
   "source": [
    "## Visualization"
   ]
  },
  {
   "cell_type": "code",
   "execution_count": 1,
   "id": "ef0c5f13",
   "metadata": {},
   "outputs": [],
   "source": [
    "import pandas as pd\n",
    "df = pd.read_excel(\"VISUALIZATIOn.xlsx\")"
   ]
  },
  {
   "cell_type": "code",
   "execution_count": 2,
   "id": "114be5d5",
   "metadata": {},
   "outputs": [
    {
     "data": {
      "text/html": [
       "<div>\n",
       "<style scoped>\n",
       "    .dataframe tbody tr th:only-of-type {\n",
       "        vertical-align: middle;\n",
       "    }\n",
       "\n",
       "    .dataframe tbody tr th {\n",
       "        vertical-align: top;\n",
       "    }\n",
       "\n",
       "    .dataframe thead th {\n",
       "        text-align: right;\n",
       "    }\n",
       "</style>\n",
       "<table border=\"1\" class=\"dataframe\">\n",
       "  <thead>\n",
       "    <tr style=\"text-align: right;\">\n",
       "      <th></th>\n",
       "      <th>Person</th>\n",
       "      <th>Age</th>\n",
       "      <th>Gender</th>\n",
       "      <th>Height (cm)</th>\n",
       "      <th>Weight (kg)</th>\n",
       "      <th>Education Level</th>\n",
       "      <th>Income ($)</th>\n",
       "      <th>Marital Status</th>\n",
       "      <th>Occupation</th>\n",
       "      <th>City</th>\n",
       "      <th>Smoking Habit</th>\n",
       "      <th>Exercise (hours/week)</th>\n",
       "    </tr>\n",
       "  </thead>\n",
       "  <tbody>\n",
       "    <tr>\n",
       "      <th>0</th>\n",
       "      <td>1</td>\n",
       "      <td>32</td>\n",
       "      <td>Male</td>\n",
       "      <td>175</td>\n",
       "      <td>70</td>\n",
       "      <td>Bachelor's</td>\n",
       "      <td>50000</td>\n",
       "      <td>Married</td>\n",
       "      <td>Engineer</td>\n",
       "      <td>NY</td>\n",
       "      <td>Non-smoker</td>\n",
       "      <td>3</td>\n",
       "    </tr>\n",
       "    <tr>\n",
       "      <th>1</th>\n",
       "      <td>2</td>\n",
       "      <td>45</td>\n",
       "      <td>Female</td>\n",
       "      <td>163</td>\n",
       "      <td>62</td>\n",
       "      <td>High School</td>\n",
       "      <td>35000</td>\n",
       "      <td>Divorced</td>\n",
       "      <td>Teacher</td>\n",
       "      <td>LA</td>\n",
       "      <td>Non-smoker</td>\n",
       "      <td>2</td>\n",
       "    </tr>\n",
       "    <tr>\n",
       "      <th>2</th>\n",
       "      <td>3</td>\n",
       "      <td>28</td>\n",
       "      <td>Male</td>\n",
       "      <td>180</td>\n",
       "      <td>85</td>\n",
       "      <td>Master's</td>\n",
       "      <td>80000</td>\n",
       "      <td>Single</td>\n",
       "      <td>Doctor</td>\n",
       "      <td>SF</td>\n",
       "      <td>Smoker</td>\n",
       "      <td>4</td>\n",
       "    </tr>\n",
       "    <tr>\n",
       "      <th>3</th>\n",
       "      <td>4</td>\n",
       "      <td>55</td>\n",
       "      <td>Female</td>\n",
       "      <td>155</td>\n",
       "      <td>58</td>\n",
       "      <td>Ph.D.</td>\n",
       "      <td>95000</td>\n",
       "      <td>Married</td>\n",
       "      <td>Scientist</td>\n",
       "      <td>NY</td>\n",
       "      <td>Non-smoker</td>\n",
       "      <td>1</td>\n",
       "    </tr>\n",
       "    <tr>\n",
       "      <th>4</th>\n",
       "      <td>5</td>\n",
       "      <td>40</td>\n",
       "      <td>Female</td>\n",
       "      <td>170</td>\n",
       "      <td>68</td>\n",
       "      <td>Bachelor's</td>\n",
       "      <td>60000</td>\n",
       "      <td>Married</td>\n",
       "      <td>Lawyer</td>\n",
       "      <td>DC</td>\n",
       "      <td>Non-smoker</td>\n",
       "      <td>2</td>\n",
       "    </tr>\n",
       "  </tbody>\n",
       "</table>\n",
       "</div>"
      ],
      "text/plain": [
       "   Person  Age  Gender  Height (cm)  Weight (kg) Education Level  Income ($)  \\\n",
       "0       1   32    Male          175           70      Bachelor's       50000   \n",
       "1       2   45  Female          163           62     High School       35000   \n",
       "2       3   28    Male          180           85        Master's       80000   \n",
       "3       4   55  Female          155           58           Ph.D.       95000   \n",
       "4       5   40  Female          170           68      Bachelor's       60000   \n",
       "\n",
       "  Marital Status Occupation City Smoking Habit  Exercise (hours/week)  \n",
       "0        Married   Engineer   NY    Non-smoker                      3  \n",
       "1       Divorced    Teacher   LA    Non-smoker                      2  \n",
       "2         Single     Doctor   SF        Smoker                      4  \n",
       "3        Married  Scientist   NY    Non-smoker                      1  \n",
       "4        Married     Lawyer   DC    Non-smoker                      2  "
      ]
     },
     "execution_count": 2,
     "metadata": {},
     "output_type": "execute_result"
    }
   ],
   "source": [
    "df.head()"
   ]
  },
  {
   "cell_type": "code",
   "execution_count": 10,
   "id": "f184911b",
   "metadata": {},
   "outputs": [
    {
     "data": {
      "image/png": "[encoded data removed]",
      "text/plain": [
       "<Figure size 720x576 with 2 Axes>"
      ]
     },
     "metadata": {
      "needs_background": "light"
     },
     "output_type": "display_data"
    }
   ],
   "source": [
    "#Q1. Height and Weight Distribution: Visualize the distribution of height and weight \n",
    "#using a heatmap. This will provide insights into the \n",
    "#correlation of individuals based on their height and weight.\n",
    "\n",
    "import matplotlib.pyplot as plt\n",
    "import seaborn as sns\n",
    "\n",
    "# Creating a heatmap of height and weight\n",
    "plt.figure(figsize=(10, 8))\n",
    "sns.heatmap(df[['Height (cm)','Weight (kg)']].corr())\n",
    "plt.xlabel('Height (cm)')\n",
    "plt.ylabel('Weight (kg)')\n",
    "plt.title('Height and Weight Distribution')\n",
    "plt.show()"
   ]
  },
  {
   "cell_type": "code",
   "execution_count": 11,
   "id": "b33b7b35",
   "metadata": {},
   "outputs": [
    {
     "data": {
      "image/png": "[encoded data removed]",
      "text/plain": [
       "<Figure size 720x432 with 1 Axes>"
      ]
     },
     "metadata": {
      "needs_background": "light"
     },
     "output_type": "display_data"
    }
   ],
   "source": [
    "#Q5. Exercise Duration by Occupation: Are there any differences in exercise duration among \n",
    "#different occupations? Create a box plot or violin plot with occupation on the \n",
    "#x-axis and exercise duration on the y-axis to compare the distributions.\n",
    "\n",
    "import matplotlib.pyplot as plt\n",
    "\n",
    "# Box plot or violin plot with occupation on x-axis and exercise duration on y-axis\n",
    "plt.figure(figsize=(10, 6))\n",
    "sns.boxplot(data=df, x='Occupation', y='Exercise (hours/week)')\n",
    "plt.xlabel('Occupation')\n",
    "plt.ylabel('Exercise Duration (hours/week)')\n",
    "plt.title('Exercise Duration by Occupation')\n",
    "plt.xticks(rotation=45)\n",
    "plt.show()"
   ]
  },
  {
   "cell_type": "code",
   "execution_count": null,
   "id": "c1c1e9d2",
   "metadata": {},
   "outputs": [],
   "source": []
  }
 ],
 "metadata": {
  "kernelspec": {
   "display_name": "Python 3 (ipykernel)",
   "language": "python",
   "name": "python3"
  },
  "language_info": {
   "codemirror_mode": {
    "name": "ipython",
    "version": 3
   },
   "file_extension": ".py",
   "mimetype": "text/x-python",
   "name": "python",
   "nbconvert_exporter": "python",
   "pygments_lexer": "ipython3",
   "version": "3.9.12"
  }
 },
 "nbformat": 4,
 "nbformat_minor": 5
}
