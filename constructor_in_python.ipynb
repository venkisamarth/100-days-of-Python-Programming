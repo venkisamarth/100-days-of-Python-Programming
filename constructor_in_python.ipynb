{
  "nbformat": 4,
  "nbformat_minor": 0,
  "metadata": {
    "colab": {
      "provenance": [],
      "authorship_tag": "ABX9TyOFkcC4uOvSXzmo6E0mSB48",
      "include_colab_link": true
    },
    "kernelspec": {
      "name": "python3",
      "display_name": "Python 3"
    },
    "language_info": {
      "name": "python"
    }
  },
  "cells": [
    {
      "cell_type": "markdown",
      "metadata": {
        "id": "view-in-github",
        "colab_type": "text"
      },
      "source": [
        "<a href=\"https://colab.research.google.com/github/venkisamarth/100-days-of-Python-Programming/blob/main/constructor_in_python.ipynb\" target=\"_parent\"><img src=\"https://colab.research.google.com/assets/colab-badge.svg\" alt=\"Open In Colab\"/></a>"
      ]
    },
    {
      "cell_type": "code",
      "execution_count": null,
      "metadata": {
        "id": "RnEBUzeTXRhB"
      },
      "outputs": [],
      "source": []
    },
    {
      "cell_type": "markdown",
      "source": [
        "Constructor in Python"
      ],
      "metadata": {
        "id": "QA26d6WtXqIi"
      }
    },
    {
      "cell_type": "markdown",
      "source": [
        "\n",
        "A constructor in Python is a special method that is automatically called when an object is created from a class. It is named __init__ and is used to initialize the attributes of the object and perform any necessary setup tasks. The primary purpose of a constructor is to ensure that an object is properly initialized when it is created."
      ],
      "metadata": {
        "id": "DBBYzhcoXek-"
      }
    },
    {
      "cell_type": "code",
      "source": [
        "# Initialization of Attributes:\n"
      ],
      "metadata": {
        "id": "dQUL6ATfXpC8"
      },
      "execution_count": null,
      "outputs": []
    },
    {
      "cell_type": "markdown",
      "source": [
        "Constructors are used to initialize the attributes of an object with default values or the values provided during the object's creation. This ensures that the object starts with a well-defined state."
      ],
      "metadata": {
        "id": "BO8W52kBX_18"
      }
    },
    {
      "cell_type": "code",
      "source": [
        "#Example\n",
        "class MyClass:\n",
        "  def __init__(self,attribute1,attribute2):\n",
        "    self.attribute1=attribute1\n",
        "    self.attribute2=attribute2\n",
        "# Creating an instance with attribute values\n",
        "obj=MyClass(\"value1\",'value2')"
      ],
      "metadata": {
        "id": "rFrlLPhOYB1C"
      },
      "execution_count": 3,
      "outputs": []
    },
    {
      "cell_type": "code",
      "source": [
        "# Default values\n"
      ],
      "metadata": {
        "id": "w2qDTEkDZAcx"
      },
      "execution_count": null,
      "outputs": []
    },
    {
      "cell_type": "markdown",
      "source": [
        "Constructors allow you to set default values for attributes. If no values are provided during the object's creation, the default values specified in the constructor are used."
      ],
      "metadata": {
        "id": "JU6xoLbhZS4V"
      }
    },
    {
      "cell_type": "code",
      "source": [
        "class NYClassWithDefaults:\n",
        "  def __init__(self,attribute1=\"default1\",attribute2=\"default2\"):\n",
        "    self.attribute1=attribute1\n",
        "    self.attribute2=attribute2\n",
        "\n",
        "object_with_defaults=NYClassWithDefaults()\n"
      ],
      "metadata": {
        "id": "-uq_08yBZWLP"
      },
      "execution_count": 4,
      "outputs": []
    },
    {
      "cell_type": "code",
      "source": [
        "# set up task\n",
        "class DatabaseConnection:\n",
        "    def __init__(self, username, password, database_name):\n",
        "        # Validate parameters\n",
        "        if not username or not password or not database_name:\n",
        "            raise ValueError(\"Invalid parameters provided.\")\n",
        "\n",
        "        # Initialize database connection\n",
        "        self.connection = connect_to_database(username, password, database_name)\n",
        "\n",
        "# Creating an instance with valid parameters\n",
        "db_connection = DatabaseConnection(\"user123\", \"password123\", \"my_database\")\n"
      ],
      "metadata": {
        "colab": {
          "base_uri": "https://localhost:8080/",
          "height": 342
        },
        "id": "e0dAJCSOaLC5",
        "outputId": "811123c6-47c9-449c-cda0-a2dafb7e8fb9"
      },
      "execution_count": 5,
      "outputs": [
        {
          "output_type": "error",
          "ename": "NameError",
          "evalue": "ignored",
          "traceback": [
            "\u001b[0;31m---------------------------------------------------------------------------\u001b[0m",
            "\u001b[0;31mNameError\u001b[0m                                 Traceback (most recent call last)",
            "\u001b[0;32m<ipython-input-5-3c97ccca64b9>\u001b[0m in \u001b[0;36m<cell line: 12>\u001b[0;34m()\u001b[0m\n\u001b[1;32m     10\u001b[0m \u001b[0;34m\u001b[0m\u001b[0m\n\u001b[1;32m     11\u001b[0m \u001b[0;31m# Creating an instance with valid parameters\u001b[0m\u001b[0;34m\u001b[0m\u001b[0;34m\u001b[0m\u001b[0m\n\u001b[0;32m---> 12\u001b[0;31m \u001b[0mdb_connection\u001b[0m \u001b[0;34m=\u001b[0m \u001b[0mDatabaseConnection\u001b[0m\u001b[0;34m(\u001b[0m\u001b[0;34m\"user123\"\u001b[0m\u001b[0;34m,\u001b[0m \u001b[0;34m\"password123\"\u001b[0m\u001b[0;34m,\u001b[0m \u001b[0;34m\"my_database\"\u001b[0m\u001b[0;34m)\u001b[0m\u001b[0;34m\u001b[0m\u001b[0;34m\u001b[0m\u001b[0m\n\u001b[0m",
            "\u001b[0;32m<ipython-input-5-3c97ccca64b9>\u001b[0m in \u001b[0;36m__init__\u001b[0;34m(self, username, password, database_name)\u001b[0m\n\u001b[1;32m      7\u001b[0m \u001b[0;34m\u001b[0m\u001b[0m\n\u001b[1;32m      8\u001b[0m         \u001b[0;31m# Initialize database connection\u001b[0m\u001b[0;34m\u001b[0m\u001b[0;34m\u001b[0m\u001b[0m\n\u001b[0;32m----> 9\u001b[0;31m         \u001b[0mself\u001b[0m\u001b[0;34m.\u001b[0m\u001b[0mconnection\u001b[0m \u001b[0;34m=\u001b[0m \u001b[0mconnect_to_database\u001b[0m\u001b[0;34m(\u001b[0m\u001b[0musername\u001b[0m\u001b[0;34m,\u001b[0m \u001b[0mpassword\u001b[0m\u001b[0;34m,\u001b[0m \u001b[0mdatabase_name\u001b[0m\u001b[0;34m)\u001b[0m\u001b[0;34m\u001b[0m\u001b[0;34m\u001b[0m\u001b[0m\n\u001b[0m\u001b[1;32m     10\u001b[0m \u001b[0;34m\u001b[0m\u001b[0m\n\u001b[1;32m     11\u001b[0m \u001b[0;31m# Creating an instance with valid parameters\u001b[0m\u001b[0;34m\u001b[0m\u001b[0;34m\u001b[0m\u001b[0m\n",
            "\u001b[0;31mNameError\u001b[0m: name 'connect_to_database' is not defined"
          ]
        }
      ]
    },
    {
      "cell_type": "code",
      "source": [
        "  #Inheritence :\n",
        ""
      ],
      "metadata": {
        "id": "Ul5Owqlia-75"
      },
      "execution_count": null,
      "outputs": []
    },
    {
      "cell_type": "markdown",
      "source": [
        " Constructors play a crucial role in inheritance. When a subclass is created, its constructor can call the constructor of the parent class using super() to ensure that the initialization of the parent class is also carried out."
      ],
      "metadata": {
        "id": "DU4w2J9se9CB"
      }
    },
    {
      "cell_type": "code",
      "source": [
        "class PerentClss:\n",
        "  def __init__(self,attribute):\n",
        "    self.attribute=attribute\n",
        "\n",
        "class ChildClass(PerentClss):\n",
        "  def __init__(self,attribute,child_attribute):\n",
        "    super().__init__(attribute)\n",
        "    self.child_attribute=child_attribute\n",
        "# creating an instancer of the child clss\n",
        "child_obj=ChildClass('parent_value',\"child_value\")\n",
        "\n",
        "\n"
      ],
      "metadata": {
        "id": "egWWgFOUe94P"
      },
      "execution_count": 6,
      "outputs": []
    },
    {
      "cell_type": "code",
      "source": [],
      "metadata": {
        "id": "iRFzH0v6gYWG"
      },
      "execution_count": null,
      "outputs": []
    }
  ]
}